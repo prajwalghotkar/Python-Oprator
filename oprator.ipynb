{
 "cells": [
  {
   "cell_type": "code",
   "execution_count": 3,
   "metadata": {},
   "outputs": [
    {
     "name": "stdout",
     "output_type": "stream",
     "text": [
      "correct\n"
     ]
    }
   ],
   "source": [
    "a=5\n",
    "if type(a)is int:\n",
    "    print(\"correct\")\n",
    "else:\n",
    "    print(\"Incoorect\") \n",
    "       "
   ]
  },
  {
   "cell_type": "code",
   "execution_count": 1,
   "metadata": {},
   "outputs": [
    {
     "name": "stdout",
     "output_type": "stream",
     "text": [
      "Python version:\n",
      "3.11.4 | packaged by Anaconda, Inc. | (main, Jul  5 2023, 13:38:37) [MSC v.1916 64 bit (AMD64)]\n",
      "version_info.\n",
      "sys.version_info(major=3, minor=11, micro=4, releaselevel='final', serial=0)\n"
     ]
    }
   ],
   "source": [
    "import sys\n",
    "print(\"Python version:\")\n",
    "print(sys.version)\n",
    "print(\"version_info.\")\n",
    "print(sys.version_info)\n"
   ]
  },
  {
   "cell_type": "code",
   "execution_count": 2,
   "metadata": {},
   "outputs": [
    {
     "name": "stdout",
     "output_type": "stream",
     "text": [
      "python version:\n",
      "3.11.4 | packaged by Anaconda, Inc. | (main, Jul  5 2023, 13:38:37) [MSC v.1916 64 bit (AMD64)]\n",
      "version information:\n",
      "sys.version_info(major=3, minor=11, micro=4, releaselevel='final', serial=0)\n"
     ]
    }
   ],
   "source": [
    "import sys\n",
    "print(\"python version:\")\n",
    "print(sys.version)\n",
    "print(\"version information:\")\n",
    "print(sys.version_info)\n"
   ]
  },
  {
   "cell_type": "code",
   "execution_count": 3,
   "metadata": {},
   "outputs": [
    {
     "name": "stdout",
     "output_type": "stream",
     "text": [
      "2023-12-21 08:59:49.953988\n"
     ]
    }
   ],
   "source": [
    "import datetime\n",
    "x=datetime.datetime.now()\n",
    "print(x)\n"
   ]
  },
  {
   "cell_type": "code",
   "execution_count": 4,
   "metadata": {},
   "outputs": [
    {
     "name": "stdout",
     "output_type": "stream",
     "text": [
      "current date and time:\n",
      "2023-12-21\n",
      "09:23:22\n"
     ]
    }
   ],
   "source": [
    "import datetime\n",
    "now=datetime.datetime.now()\n",
    "print(\"current date and time:\")\n",
    "print(now.strftime(\"%Y-%m-%d\"))\n",
    "print(now.strftime(\"%H:%M:%S\"))"
   ]
  },
  {
   "cell_type": "code",
   "execution_count": 5,
   "metadata": {},
   "outputs": [
    {
     "name": "stdout",
     "output_type": "stream",
     "text": [
      "python version:\n",
      "3.11.4 | packaged by Anaconda, Inc. | (main, Jul  5 2023, 13:38:37) [MSC v.1916 64 bit (AMD64)]\n",
      "version information\n",
      "sys.version_info(major=3, minor=11, micro=4, releaselevel='final', serial=0)\n"
     ]
    }
   ],
   "source": [
    "import sys\n",
    "print(\"python version:\")\n",
    "print(sys.version)\n",
    "print(\"version information\")\n",
    "print(sys.version_info)"
   ]
  },
  {
   "cell_type": "code",
   "execution_count": 6,
   "metadata": {},
   "outputs": [
    {
     "name": "stdout",
     "output_type": "stream",
     "text": [
      "2023-12-21 09:26:37.792289\n"
     ]
    }
   ],
   "source": [
    "import datetime\n",
    "x=datetime.datetime.now()\n",
    "print(x)\n"
   ]
  },
  {
   "cell_type": "code",
   "execution_count": 7,
   "metadata": {},
   "outputs": [
    {
     "name": "stdout",
     "output_type": "stream",
     "text": [
      "Current date and time:\n",
      "2023-12-21\n",
      "09:30:41\n"
     ]
    }
   ],
   "source": [
    "import datetime\n",
    "now=datetime.datetime.now()\n",
    "print(\"Current date and time:\")\n",
    "print(now.strftime(\"%Y-%m-%d\"))\n",
    "print(now.strftime(\"%H:%M:%S\"))\n"
   ]
  },
  {
   "cell_type": "code",
   "execution_count": 1,
   "metadata": {},
   "outputs": [
    {
     "name": "stdout",
     "output_type": "stream",
     "text": [
      "5\n",
      "10\n",
      "15\n",
      "20\n",
      "25\n",
      "30\n",
      "35\n",
      "40\n",
      "45\n",
      "50\n"
     ]
    }
   ],
   "source": [
    "x=int(input(\"Enter the number:\"))\n",
    "for y in range(1,11):\n",
    "    print(x*y)\n",
    "    "
   ]
  },
  {
   "cell_type": "code",
   "execution_count": 3,
   "metadata": {},
   "outputs": [
    {
     "name": "stdout",
     "output_type": "stream",
     "text": [
      "2\n",
      "4\n",
      "6\n",
      "8\n",
      "10\n",
      "12\n",
      "14\n",
      "16\n",
      "18\n",
      "20\n"
     ]
    }
   ],
   "source": [
    "for i in range(2,21,2):\n",
    "    print(i)"
   ]
  },
  {
   "cell_type": "code",
   "execution_count": 5,
   "metadata": {},
   "outputs": [
    {
     "name": "stdout",
     "output_type": "stream",
     "text": [
      "20\n",
      "18\n",
      "16\n",
      "14\n",
      "12\n",
      "10\n",
      "8\n",
      "6\n",
      "4\n",
      "2\n"
     ]
    }
   ],
   "source": [
    "for i in range(20,1,-2):\n",
    "    print(i)\n",
    "    "
   ]
  },
  {
   "cell_type": "code",
   "execution_count": 6,
   "metadata": {},
   "outputs": [
    {
     "name": "stdout",
     "output_type": "stream",
     "text": [
      "Addition of given number: 15\n"
     ]
    }
   ],
   "source": [
    "n1=int(input(\"Enter the 1st number:\"))\n",
    "n2=int(input(\"Enter the 2nd number:\"))\n",
    "total=n1+n2\n",
    "print(\"Addition of given number:\",total)"
   ]
  },
  {
   "cell_type": "code",
   "execution_count": 7,
   "metadata": {},
   "outputs": [
    {
     "name": "stdout",
     "output_type": "stream",
     "text": [
      "0\n",
      "1\n",
      "2\n",
      "3\n",
      "4\n"
     ]
    }
   ],
   "source": [
    "total=0\n",
    "for i in range(5):\n",
    "    print(i)"
   ]
  },
  {
   "cell_type": "code",
   "execution_count": 9,
   "metadata": {},
   "outputs": [
    {
     "name": "stdout",
     "output_type": "stream",
     "text": [
      "Sum of 5 number: 10\n",
      "Sum of 5 number: 30\n",
      "Sum of 5 number: 45\n",
      "Sum of 5 number: 51\n",
      "Sum of 5 number: 59\n"
     ]
    }
   ],
   "source": [
    "total=0\n",
    "for i in range(5):\n",
    "    no=int(input(\"Enter the number:\"))\n",
    "    total=total+no\n",
    "    print(\"Sum of 5 number:\",total)\n",
    "    "
   ]
  },
  {
   "cell_type": "code",
   "execution_count": 10,
   "metadata": {},
   "outputs": [
    {
     "name": "stdout",
     "output_type": "stream",
     "text": [
      "sum of given number: 64\n",
      "sum of given number: 66\n",
      "sum of given number: 69\n",
      "sum of given number: 73\n",
      "sum of given number: 75\n"
     ]
    }
   ],
   "source": [
    "for i in range(5):\n",
    "    no=input(\"Enter the number:\")\n",
    "    total=total+int(no)\n",
    "    print(\"sum of given number:\",total)\n",
    "    "
   ]
  },
  {
   "cell_type": "code",
   "execution_count": 12,
   "metadata": {},
   "outputs": [
    {
     "name": "stdout",
     "output_type": "stream",
     "text": [
      "Sum of given number: 50\n",
      "Sum of given number: 70\n",
      "Sum of given number: 100\n"
     ]
    }
   ],
   "source": [
    "total=0\n",
    "for i in range(3):\n",
    "    no=int(input(\"Enter the number:\"))\n",
    "    total=total+no\n",
    "    print(\"Sum of given number:\",total)\n",
    "    "
   ]
  },
  {
   "cell_type": "code",
   "execution_count": 14,
   "metadata": {},
   "outputs": [
    {
     "name": "stdout",
     "output_type": "stream",
     "text": [
      "1\n",
      "2\n",
      "3\n",
      "4\n",
      "5\n",
      "6\n",
      "7\n",
      "8\n",
      "9\n",
      "10\n"
     ]
    }
   ],
   "source": [
    "a=1\n",
    "while(a<=10):\n",
    "    print(a)\n",
    "    a=a+1\n",
    "    "
   ]
  },
  {
   "cell_type": "code",
   "execution_count": 16,
   "metadata": {},
   "outputs": [
    {
     "name": "stdout",
     "output_type": "stream",
     "text": [
      "Sum of number: 50\n",
      "Sum of number: 100\n"
     ]
    }
   ],
   "source": [
    "total=0\n",
    "while(total<100):\n",
    "    n=int(input(\"Enter the number:\"))\n",
    "    total=total+n\n",
    "    print(\"Sum of number:\",total)\n",
    "    "
   ]
  },
  {
   "cell_type": "code",
   "execution_count": 19,
   "metadata": {},
   "outputs": [
    {
     "name": "stdout",
     "output_type": "stream",
     "text": [
      "1\n",
      "2\n",
      "3\n",
      "4\n",
      "5\n"
     ]
    }
   ],
   "source": [
    "i=1\n",
    "while(i<=5):\n",
    "    print(i)\n",
    "    i=i+1\n",
    "    "
   ]
  },
  {
   "cell_type": "code",
   "execution_count": 22,
   "metadata": {},
   "outputs": [
    {
     "name": "stdout",
     "output_type": "stream",
     "text": [
      "1\n",
      "Sum of the number: 1\n",
      "2\n",
      "Sum of the number: 3\n",
      "3\n",
      "Sum of the number: 6\n",
      "4\n",
      "Sum of the number: 10\n",
      "5\n",
      "Sum of the number: 15\n"
     ]
    }
   ],
   "source": [
    "n=int(input(\"Enter the number:\"))\n",
    "i=1\n",
    "sum=0\n",
    "while(i<=n):\n",
    "    print(i)\n",
    "    sum=sum+i\n",
    "    i=i+1\n",
    "    print(\"Sum of the number:\",sum)\n",
    "    "
   ]
  },
  {
   "cell_type": "code",
   "execution_count": 24,
   "metadata": {},
   "outputs": [
    {
     "name": "stdout",
     "output_type": "stream",
     "text": [
      "Sum of the number: 50\n",
      "Sum of the number: 100\n"
     ]
    }
   ],
   "source": [
    "total=0\n",
    "while(total<100):\n",
    "    n=int(input(\"Enter the number:\"))\n",
    "    total=total+n\n",
    "    print(\"Sum of the number:\",total)"
   ]
  },
  {
   "cell_type": "code",
   "execution_count": 26,
   "metadata": {},
   "outputs": [
    {
     "name": "stdout",
     "output_type": "stream",
     "text": [
      "1\n",
      "Sum of the given number: 1\n",
      "2\n",
      "Sum of the given number: 5\n",
      "3\n",
      "Sum of the given number: 14\n",
      "4\n",
      "Sum of the given number: 30\n",
      "5\n",
      "Sum of the given number: 55\n"
     ]
    }
   ],
   "source": [
    "n=int(input(\"Enter the number:\"))\n",
    "i=1\n",
    "sum=0\n",
    "while(i<=n):\n",
    "    sum=sum+i*i\n",
    "    print(i)\n",
    "    i=i+1\n",
    "    print(\"Sum of the given number:\",sum)\n",
    "dict1={\"name'peahs cx ghyikar:}    \n",
    "    \n"
   ]
  },
  {
   "cell_type": "code",
   "execution_count": 27,
   "metadata": {},
   "outputs": [
    {
     "name": "stdout",
     "output_type": "stream",
     "text": [
      "2\n",
      "4\n",
      "6\n",
      "8\n",
      "10\n"
     ]
    }
   ],
   "source": [
    "n=int(input(\"Enter the number:\"))\n",
    "i=2\n",
    "while(i<=n):\n",
    "    print(i)\n",
    "    i=i+2\n",
    "    \n"
   ]
  },
  {
   "cell_type": "code",
   "execution_count": 28,
   "metadata": {},
   "outputs": [
    {
     "name": "stdout",
     "output_type": "stream",
     "text": [
      "10\n",
      "15\n",
      "20\n",
      "25\n",
      "Good day\n"
     ]
    }
   ],
   "source": [
    "a=[10,15,20,25]\n",
    "for i in a:\n",
    "    print(i)\n",
    "print(\"Good day\")    "
   ]
  },
  {
   "cell_type": "code",
   "execution_count": 36,
   "metadata": {},
   "outputs": [
    {
     "name": "stdout",
     "output_type": "stream",
     "text": [
      "pen\n",
      "pencile\n",
      "erasor\n",
      "compose\n"
     ]
    }
   ],
   "source": [
    "A=[\"pen\",\"pencile\",\"erasor\",\"compose\"]\n",
    "for i in (A):\n",
    "    print(i)"
   ]
  },
  {
   "cell_type": "code",
   "execution_count": 32,
   "metadata": {},
   "outputs": [
    {
     "name": "stdout",
     "output_type": "stream",
     "text": [
      "pen\n",
      "  school\n",
      "  college\n",
      "pencile\n",
      "  school\n",
      "  college\n",
      "book\n",
      "  school\n",
      "  college\n",
      "toy\n",
      "  school\n",
      "  college\n"
     ]
    }
   ],
   "source": [
    "A=['pen','pencile','book','toy']\n",
    "B=['school','college']\n",
    "for i in A:\n",
    "    print(i)\n",
    "    for j in B:\n",
    "        print(' ',j)"
   ]
  },
  {
   "cell_type": "code",
   "execution_count": 39,
   "metadata": {},
   "outputs": [
    {
     "name": "stdout",
     "output_type": "stream",
     "text": [
      "pen\n",
      "      School\n",
      "      College\n",
      "pencile\n",
      "      School\n",
      "      College\n",
      "book\n",
      "      School\n",
      "      College\n",
      "toy\n",
      "      School\n",
      "      College\n"
     ]
    }
   ],
   "source": [
    "A=['pen','pencile','book','toy']\n",
    "B=['School','College']\n",
    "for i in A:\n",
    "    print(i)\n",
    "    for j in B:\n",
    "        print(' ',j)\n",
    "        "
   ]
  },
  {
   "cell_type": "code",
   "execution_count": 43,
   "metadata": {},
   "outputs": [
    {
     "name": "stdout",
     "output_type": "stream",
     "text": [
      "Pen\n",
      "  School\n",
      "  College\n",
      "Pencile\n",
      "  School\n",
      "  College\n",
      "Book\n",
      "  School\n",
      "  College\n",
      "Toy\n",
      "  School\n",
      "  College\n"
     ]
    }
   ],
   "source": [
    "A=['Pen','Pencile','Book','Toy']\n",
    "B=['School','College']\n",
    "for i in A:\n",
    "    print(i)\n",
    "    for j in B:\n",
    "        print(\" \",j)\n",
    "        continue\n",
    "        print(\" \",j)\n",
    "        "
   ]
  },
  {
   "cell_type": "code",
   "execution_count": 44,
   "metadata": {},
   "outputs": [
    {
     "name": "stdout",
     "output_type": "stream",
     "text": [
      "pen\n",
      "  school\n",
      "pencile\n",
      "  school\n",
      "book\n",
      "  school\n",
      "toy\n",
      "  school\n"
     ]
    }
   ],
   "source": [
    "A=['pen','pencile','book','toy']\n",
    "B=['school','college']\n",
    "for i in A:\n",
    "    print(i)\n",
    "    for j in B:\n",
    "        print(' ',j)\n",
    "        break\n",
    "        print(' ',j)"
   ]
  },
  {
   "cell_type": "code",
   "execution_count": 46,
   "metadata": {},
   "outputs": [
    {
     "name": "stdout",
     "output_type": "stream",
     "text": [
      "pen\n",
      "pencile\n",
      "book\n",
      "toy\n"
     ]
    }
   ],
   "source": [
    "A=['pen','pencile','book','toy']\n",
    "B=['school','college']\n",
    "for i in A:\n",
    "    print(i)\n",
    "    continue\n",
    "    for j in B:\n",
    "        print(' ',j)\n",
    "        print(' ',j)\n",
    "        "
   ]
  },
  {
   "cell_type": "code",
   "execution_count": 13,
   "metadata": {},
   "outputs": [
    {
     "name": "stdout",
     "output_type": "stream",
     "text": [
      "pen\n",
      "  school\n",
      "pencile\n",
      "  school\n",
      "book\n",
      "  school\n",
      "toy\n",
      "  school\n"
     ]
    }
   ],
   "source": [
    "A=['pen','pencile','book','toy']\n",
    "B=['school','college']\n",
    "for i in A:\n",
    "    print(i)\n",
    "    \n",
    "    for j in B:\n",
    "        print(' ',j)\n",
    "        break\n",
    "        print(' ',j)\n"
   ]
  },
  {
   "cell_type": "code",
   "execution_count": 14,
   "metadata": {},
   "outputs": [
    {
     "data": {
      "text/plain": [
       "['pen', 'pencile', 'book', 'toy', 'school', 'college']"
      ]
     },
     "execution_count": 14,
     "metadata": {},
     "output_type": "execute_result"
    }
   ],
   "source": [
    "A=['pen','pencile','book','toy']\n",
    "B=['school','college']\n",
    "A+B\n"
   ]
  },
  {
   "cell_type": "code",
   "execution_count": 15,
   "metadata": {},
   "outputs": [
    {
     "data": {
      "text/plain": [
       "['pen', 'pencile', 'book', 'toy']"
      ]
     },
     "execution_count": 15,
     "metadata": {},
     "output_type": "execute_result"
    }
   ],
   "source": [
    "A=['pen','pencile','book','toy']\n",
    "A\n"
   ]
  },
  {
   "cell_type": "code",
   "execution_count": 16,
   "metadata": {},
   "outputs": [
    {
     "data": {
      "text/plain": [
       "4"
      ]
     },
     "execution_count": 16,
     "metadata": {},
     "output_type": "execute_result"
    }
   ],
   "source": [
    "len(A)"
   ]
  },
  {
   "cell_type": "code",
   "execution_count": 17,
   "metadata": {},
   "outputs": [
    {
     "data": {
      "text/plain": [
       "7"
      ]
     },
     "execution_count": 17,
     "metadata": {},
     "output_type": "execute_result"
    }
   ],
   "source": [
    "s=\"prajwal\"\n",
    "len(s)\n"
   ]
  },
  {
   "cell_type": "code",
   "execution_count": null,
   "metadata": {},
   "outputs": [],
   "source": []
  },
  {
   "cell_type": "code",
   "execution_count": 6,
   "metadata": {},
   "outputs": [
    {
     "name": "stdout",
     "output_type": "stream",
     "text": [
      "1\n",
      "4\n"
     ]
    }
   ],
   "source": [
    "def list_count_5(nums):\n",
    "    count=0\n",
    "    for num in nums:\n",
    "        if num==5:\n",
    "            count=count+1\n",
    "    return count \n",
    "print(list_count_5([4,2,5,7,4]))\n",
    "print(list_count_5([4,6,3,4,5,5,7,5,5]))\n",
    "       "
   ]
  },
  {
   "cell_type": "code",
   "execution_count": 7,
   "metadata": {},
   "outputs": [
    {
     "name": "stdout",
     "output_type": "stream",
     "text": [
      "False\n",
      "True\n"
     ]
    }
   ],
   "source": [
    "def is_vowel(char):\n",
    "    all_vowels=\"aeiouAEIOU\"\n",
    "    return char in all_vowels\n",
    "print(is_vowel('c'))\n",
    "print(is_vowel(\"a\"))"
   ]
  },
  {
   "cell_type": "code",
   "execution_count": 33,
   "metadata": {},
   "outputs": [
    {
     "name": "stdout",
     "output_type": "stream",
     "text": [
      " @@@@@@@@@\n"
     ]
    }
   ],
   "source": [
    "def histogram(items):\n",
    "    for n in items:\n",
    "        output = \" \"\n",
    "        times = n\n",
    "        while(times>0):\n",
    "            output=output+\"@\"\n",
    "            times=times-1\n",
    "    print(output)\n",
    "histogram([1,2,4,6,7,8,9])            \n",
    "             "
   ]
  },
  {
   "cell_type": "code",
   "execution_count": 19,
   "metadata": {},
   "outputs": [
    {
     "name": "stdout",
     "output_type": "stream",
     "text": [
      "   @   \n",
      "   @      @   \n",
      "   @      @      @   \n",
      "   @      @      @      @   \n",
      "   @      @      @      @      @   \n"
     ]
    }
   ],
   "source": [
    "i=1\n",
    "while(i<=5):\n",
    "    j=1\n",
    "    while(j<=i):\n",
    "        print(\"   @   \",end=\"\")\n",
    "        \n",
    "        j=j+1\n",
    "        \n",
    "    print(  )\n",
    "    i=i+1    "
   ]
  },
  {
   "cell_type": "code",
   "execution_count": 1,
   "metadata": {},
   "outputs": [
    {
     "name": "stdout",
     "output_type": "stream",
     "text": [
      "*\n",
      "**\n",
      "***\n",
      "****\n",
      "*****\n"
     ]
    }
   ],
   "source": [
    "i=1\n",
    "while(i<=5):\n",
    "    j=1\n",
    "    while(j<=i):\n",
    "        print(\"*\",end='')\n",
    "        j+=1\n",
    "    print()\n",
    "    i+=1\n",
    "        "
   ]
  },
  {
   "cell_type": "code",
   "execution_count": 11,
   "metadata": {},
   "outputs": [
    {
     "name": "stdout",
     "output_type": "stream",
     "text": [
      "     *\n",
      "    **\n",
      "   ***\n",
      "  ****\n",
      " *****\n",
      "*\n"
     ]
    }
   ],
   "source": [
    "i=1\n",
    "while(i<=6):\n",
    "    b=1\n",
    "    while(b<=6-i):\n",
    "        print(\" \",end='')\n",
    "        b+=1\n",
    "        j=1\n",
    "    while(j<=i):\n",
    "            print(\"*\",end=\"\")\n",
    "            j+=1\n",
    "    print()\n",
    "    i+=1\n",
    "            \n",
    "        "
   ]
  },
  {
   "cell_type": "code",
   "execution_count": 12,
   "metadata": {},
   "outputs": [
    {
     "name": "stdout",
     "output_type": "stream",
     "text": [
      "    1\n",
      "   22\n",
      "  333\n",
      " 4444\n",
      "55555\n"
     ]
    }
   ],
   "source": [
    "i=1\n",
    "while(i<=5):\n",
    "    b=1\n",
    "    while(b<=5-i):\n",
    "        print(\" \",end='')\n",
    "        b+=1\n",
    "    j=1\n",
    "    while(j<=i):\n",
    "        print(i,end=\"\")\n",
    "        j+=1\n",
    "    print()\n",
    "    i+=1\n",
    "            "
   ]
  },
  {
   "cell_type": "code",
   "execution_count": 1,
   "metadata": {},
   "outputs": [
    {
     "name": "stdout",
     "output_type": "stream",
     "text": [
      "     * \n",
      "    *  *  * \n",
      "   *  *  *  *  * \n",
      "  *  *  *  *  *  *  * \n",
      " *  *  *  *  *  *  *  *  * \n",
      " *  *  *  *  *  *  *  *  *  *  * \n",
      " *  *  *  *  *  *  *  *  *  *  *  *  * \n",
      " *  *  *  *  *  *  *  *  *  *  *  *  *  *  * \n",
      " *  *  *  *  *  *  *  *  *  *  *  *  *  *  *  *  * \n"
     ]
    }
   ],
   "source": [
    "k=1\n",
    "i=1\n",
    "while(i<=9):\n",
    "    b=1\n",
    "    while(b<=5-i):\n",
    "        print(\" \",end='')\n",
    "        b+=1\n",
    "    j=1\n",
    "    while(j<=k):\n",
    "        print(\" * \",end='')\n",
    "        j+=1\n",
    "    k+=2\n",
    "    print()\n",
    "    i+=1\n",
    "            \n",
    "    "
   ]
  },
  {
   "cell_type": "code",
   "execution_count": 7,
   "metadata": {},
   "outputs": [
    {
     "name": "stdout",
     "output_type": "stream",
     "text": [
      "2\n",
      "6\n"
     ]
    }
   ],
   "source": [
    "def list_count_4(nums):\n",
    "    count=0\n",
    "    for num in nums:\n",
    "        if num==4:\n",
    "          count+=1\n",
    "    return count\n",
    "print(list_count_4([4,4,9]))\n",
    "print(list_count_4([1,4,4,46,4,4,4,4]))    "
   ]
  },
  {
   "cell_type": "code",
   "execution_count": 8,
   "metadata": {},
   "outputs": [
    {
     "name": "stdout",
     "output_type": "stream",
     "text": [
      "False\n",
      "True\n"
     ]
    }
   ],
   "source": [
    "def is_vowel(char):\n",
    "    all_vowel='ariou'\n",
    "    return char in all_vowel\n",
    "print(is_vowel('c'))\n",
    "print(is_vowel('a'))"
   ]
  },
  {
   "cell_type": "code",
   "execution_count": 10,
   "metadata": {},
   "outputs": [
    {
     "name": "stdout",
     "output_type": "stream",
     "text": [
      "@@\n",
      "@@@@\n",
      "@@@@@\n",
      "@@@@@@\n"
     ]
    }
   ],
   "source": [
    "def histogram(items):\n",
    "    for n in items:\n",
    "        output=''\n",
    "        times=n\n",
    "        while(times>0):\n",
    "            output+='@'\n",
    "            times=times-1\n",
    "        print(output) \n",
    "histogram([2,4,5,6])           \n",
    "            "
   ]
  },
  {
   "cell_type": "code",
   "execution_count": 11,
   "metadata": {},
   "outputs": [
    {
     "name": "stdout",
     "output_type": "stream",
     "text": [
      "area 36.0\n"
     ]
    }
   ],
   "source": [
    "h=int(input(\"enter the number:\"))\n",
    "b=int(input(\"enter the number:\"))\n",
    "A=h*b/2\n",
    "print(\"area\",A)"
   ]
  },
  {
   "cell_type": "code",
   "execution_count": 15,
   "metadata": {},
   "outputs": [
    {
     "name": "stdout",
     "output_type": "stream",
     "text": [
      "   @@@@@\n",
      "   @@@\n",
      "   @@\n",
      "   @@@@@@@\n",
      "   @@@@\n",
      "   @@@@@@@\n",
      "   @@@@@@@@@\n",
      "   @@@@@\n",
      "   @@@@\n"
     ]
    }
   ],
   "source": [
    "def histogram(items):\n",
    "    for n in items:\n",
    "        output='   '\n",
    "        times=n\n",
    "        while(times>0):\n",
    "            output+=\"@\"\n",
    "            times-=1\n",
    "        print(output)\n",
    "histogram([5,3,2,7,4,7,9,5,4])            "
   ]
  },
  {
   "cell_type": "code",
   "execution_count": 16,
   "metadata": {},
   "outputs": [
    {
     "name": "stdout",
     "output_type": "stream",
     "text": [
      "area 36.0\n"
     ]
    }
   ],
   "source": [
    "h=int(input(\"Enter the number:\"))\n",
    "b=int(input(\"Enter the number:\"))\n",
    "A=h*b/2\n",
    "print(\"area\",A)\n"
   ]
  },
  {
   "cell_type": "code",
   "execution_count": 17,
   "metadata": {},
   "outputs": [
    {
     "name": "stdout",
     "output_type": "stream",
     "text": [
      "python version:\n",
      "3.11.4 | packaged by Anaconda, Inc. | (main, Jul  5 2023, 13:38:37) [MSC v.1916 64 bit (AMD64)]\n",
      "version information:\n",
      "sys.version_info(major=3, minor=11, micro=4, releaselevel='final', serial=0)\n"
     ]
    }
   ],
   "source": [
    "import sys\n",
    "print(\"python version:\")\n",
    "print(sys.version)\n",
    "print(\"version information:\")\n",
    "print(sys.version_info)\n"
   ]
  },
  {
   "cell_type": "code",
   "execution_count": 18,
   "metadata": {},
   "outputs": [
    {
     "name": "stdout",
     "output_type": "stream",
     "text": [
      "2023-12-23 17:18:23.232296\n"
     ]
    }
   ],
   "source": [
    "import datetime\n",
    "x=datetime.datetime.now()\n",
    "print(x)\n"
   ]
  },
  {
   "cell_type": "code",
   "execution_count": 19,
   "metadata": {},
   "outputs": [
    {
     "name": "stdout",
     "output_type": "stream",
     "text": [
      "Current date and time:\n",
      "2023-12-23\n",
      "17:21:49\n"
     ]
    }
   ],
   "source": [
    "import datetime\n",
    "now=datetime.datetime.now()\n",
    "print(\"Current date and time:\")\n",
    "print(now.strftime(\"%Y-%m-%d\"))\n",
    "print(now.strftime(\"%H:%M:%S\"))"
   ]
  },
  {
   "cell_type": "code",
   "execution_count": 20,
   "metadata": {},
   "outputs": [
    {
     "name": "stdout",
     "output_type": "stream",
     "text": [
      "The area of the circle with the radius : 1.3 5.3092915845667505\n"
     ]
    }
   ],
   "source": [
    "from math import pi\n",
    "r=float(input(\"Enter the radius of the circle:\"))\n",
    "print(\"The area of the circle with the radius : \" +str(r)+ \" \" +str(pi*r**2)) "
   ]
  },
  {
   "cell_type": "code",
   "execution_count": 30,
   "metadata": {},
   "outputs": [
    {
     "name": "stdout",
     "output_type": "stream",
     "text": [
      "Hello ghotkar prajwal\n"
     ]
    }
   ],
   "source": [
    "fname=input(\"Enter your first name:\")\n",
    "lname=input(\"Enter your last name:\")\n",
    "print(\"Hello \" +lname+ \" \" +fname)"
   ]
  },
  {
   "cell_type": "code",
   "execution_count": 31,
   "metadata": {},
   "outputs": [
    {
     "name": "stdout",
     "output_type": "stream",
     "text": [
      "List ['1', '23', '4', '5', '6', '7', '8', '9']\n",
      "Tuple ('1', '23', '4', '5', '6', '7', '8', '9')\n"
     ]
    }
   ],
   "source": [
    "values=input(\"Input comma separated number:\")\n",
    "list1=values.split(\",\")\n",
    "tuple1=tuple(list1)\n",
    "print(\"List\",list1)\n",
    "print(\"Tuple\",tuple1)\n"
   ]
  },
  {
   "cell_type": "code",
   "execution_count": 33,
   "metadata": {},
   "outputs": [
    {
     "name": "stdout",
     "output_type": "stream",
     "text": [
      "List ['Hello', 'my name is piter', ' i am from UK']\n"
     ]
    }
   ],
   "source": [
    "txt=\"Hello,my name is piter, i am from UK\"\n",
    "p1=txt.split(\",\")\n",
    "print(\"List\",p1)"
   ]
  },
  {
   "cell_type": "code",
   "execution_count": 35,
   "metadata": {},
   "outputs": [
    {
     "name": "stdout",
     "output_type": "stream",
     "text": [
      "List ['prajwal,coder,hacker']\n"
     ]
    }
   ],
   "source": [
    "values=input(\"Enter comma separated values\")\n",
    "list1=values.split(\"#\")\n",
    "print(\"List\",list1)\n"
   ]
  },
  {
   "cell_type": "code",
   "execution_count": 36,
   "metadata": {},
   "outputs": [
    {
     "name": "stdout",
     "output_type": "stream",
     "text": [
      "list ['apples', 'cherry', 'banana', 'orange']\n"
     ]
    }
   ],
   "source": [
    "text=\"apples#cherry#banana#orange\"\n",
    "x=text.split(\"#\")\n",
    "print(\"list\",x)"
   ]
  },
  {
   "cell_type": "code",
   "execution_count": 37,
   "metadata": {},
   "outputs": [
    {
     "name": "stdout",
     "output_type": "stream",
     "text": [
      "list ['Apples', 'Chery#Banana#Orange']\n"
     ]
    }
   ],
   "source": [
    "text=\"Apples#Chery#Banana#Orange\"\n",
    "x=text.split(\"#\",1)\n",
    "print(\"list\",x)"
   ]
  },
  {
   "cell_type": "code",
   "execution_count": 1,
   "metadata": {},
   "outputs": [
    {
     "name": "stdout",
     "output_type": "stream",
     "text": [
      "python version:\n",
      "3.11.4 | packaged by Anaconda, Inc. | (main, Jul  5 2023, 13:38:37) [MSC v.1916 64 bit (AMD64)]\n",
      "version_information:\n",
      "sys.version_info(major=3, minor=11, micro=4, releaselevel='final', serial=0)\n"
     ]
    }
   ],
   "source": [
    "import sys\n",
    "print(\"python version:\")\n",
    "print(sys.version)\n",
    "print(\"version_information:\")\n",
    "print(sys.version_info)\n"
   ]
  },
  {
   "cell_type": "code",
   "execution_count": 2,
   "metadata": {},
   "outputs": [
    {
     "name": "stdout",
     "output_type": "stream",
     "text": [
      "2023-12-24 10:13:56.587901\n"
     ]
    }
   ],
   "source": [
    "import datetime\n",
    "x=datetime.datetime.now()\n",
    "print(x)\n"
   ]
  },
  {
   "cell_type": "code",
   "execution_count": 3,
   "metadata": {},
   "outputs": [
    {
     "name": "stdout",
     "output_type": "stream",
     "text": [
      "Currect date and time:\n",
      "2023-12-24\n"
     ]
    }
   ],
   "source": [
    "import datetime\n",
    "now=datetime.datetime.now()\n",
    "print(\"Currect date and time:\")\n",
    "print(now.strftime(\"%Y-%m-%d\"))\n"
   ]
  },
  {
   "cell_type": "code",
   "execution_count": 7,
   "metadata": {},
   "outputs": [
    {
     "name": "stdout",
     "output_type": "stream",
     "text": [
      "The area of the circle with the radius 1.2 is: 4.523893421169302\n"
     ]
    }
   ],
   "source": [
    "from math import pi\n",
    "r=float(input(\"Enter the radius of the circle:\"))\n",
    "print(\"The area of the circle with the radius \" +str(r)+ \" is: \" +str(pi*r**2))\n"
   ]
  },
  {
   "cell_type": "code",
   "execution_count": 8,
   "metadata": {},
   "outputs": [
    {
     "name": "stdout",
     "output_type": "stream",
     "text": [
      "Hello ghotkar prajwal\n"
     ]
    }
   ],
   "source": [
    "fname=input(\"Enter your name:\")\n",
    "lname=input(\"Enter your name:\")\n",
    "print(\"Hello \" +lname+ \" \" +fname)\n"
   ]
  },
  {
   "cell_type": "code",
   "execution_count": 9,
   "metadata": {},
   "outputs": [
    {
     "name": "stdout",
     "output_type": "stream",
     "text": [
      "List ['1', '2', '3', '4', '5']\n",
      "Tuple ('1', '2', '3', '4', '5')\n"
     ]
    }
   ],
   "source": [
    "values=input(\"Enter the comma separeted numbers:\")\n",
    "list1=values.split(\",\")\n",
    "tuple1=tuple(list1)\n",
    "print(\"List\",list1)\n",
    "print(\"Tuple\",tuple1)\n"
   ]
  },
  {
   "cell_type": "code",
   "execution_count": 10,
   "metadata": {},
   "outputs": [
    {
     "name": "stdout",
     "output_type": "stream",
     "text": [
      "List: ['hello', ' my name is piter', 'i am from Uk']\n"
     ]
    }
   ],
   "source": [
    "text=\"hello, my name is piter,i am from Uk\"\n",
    "x=text.split(\",\")\n",
    "print(\"List:\",x)\n"
   ]
  },
  {
   "cell_type": "code",
   "execution_count": 11,
   "metadata": {},
   "outputs": [
    {
     "name": "stdout",
     "output_type": "stream",
     "text": [
      "List ['Apple', 'Cherry', 'Banana', 'Orange']\n"
     ]
    }
   ],
   "source": [
    "text=\"Apple#Cherry#Banana#Orange\"\n",
    "x=text.split(\"#\")\n",
    "print(\"List\",x)\n"
   ]
  },
  {
   "cell_type": "code",
   "execution_count": 13,
   "metadata": {},
   "outputs": [
    {
     "name": "stdout",
     "output_type": "stream",
     "text": [
      "List: ['Apple', 'Cherry#Banana#Orange']\n"
     ]
    }
   ],
   "source": [
    "text=\"Apple#Cherry#Banana#Orange\"\n",
    "x=text.split(\"#\",1)\n",
    "print(\"List:\",x)"
   ]
  },
  {
   "cell_type": "code",
   "execution_count": 14,
   "metadata": {},
   "outputs": [
    {
     "name": "stdout",
     "output_type": "stream",
     "text": [
      "Extension of the file:'py'\n"
     ]
    }
   ],
   "source": [
    "filename=input(\"Enter your file name:\")\n",
    "file_extns=filename.split(\".\")\n",
    "print(\"Extension of the file:\" +repr(file_extns[-1]))\n"
   ]
  },
  {
   "cell_type": "code",
   "execution_count": 15,
   "metadata": {},
   "outputs": [
    {
     "name": "stdout",
     "output_type": "stream",
     "text": [
      "2023-12-24 10:49:23.032882\n",
      "2023-12-24 10:49:23.032882\n",
      "datetime.datetime(2023, 12, 24, 10, 49, 23, 32882)\n"
     ]
    }
   ],
   "source": [
    "import datetime\n",
    "today=datetime.datetime.now()\n",
    "print(today)\n",
    "print(str(today))\n",
    "#print official foramt of date-time objects\n",
    "print(repr(today))\n"
   ]
  },
  {
   "cell_type": "code",
   "execution_count": 16,
   "metadata": {},
   "outputs": [
    {
     "name": "stdout",
     "output_type": "stream",
     "text": [
      "Red Pink\n"
     ]
    }
   ],
   "source": [
    "color_list=[\"Red\",\"Yellow\",\"Blue\",\"Pink\"]\n",
    "print(\"%s %s\"%(color_list[0],color_list[-1]))\n"
   ]
  },
  {
   "cell_type": "code",
   "execution_count": 17,
   "metadata": {},
   "outputs": [
    {
     "name": "stdout",
     "output_type": "stream",
     "text": [
      "615\n"
     ]
    }
   ],
   "source": [
    "a=int(input(\"Enter the number:\"))\n",
    "n1=int(\"%s\" %a)\n",
    "n2=int(\"%s%s\" %(a,a))\n",
    "n3=int(\"%s%s%s\" %(a,a,a))\n",
    "print(n1+n2+n3)\n"
   ]
  },
  {
   "cell_type": "code",
   "execution_count": 19,
   "metadata": {},
   "outputs": [
    {
     "name": "stdout",
     "output_type": "stream",
     "text": [
      "Volume of the sphere is: 904.7786842338603\n"
     ]
    }
   ],
   "source": [
    "pi=3.1415926535897931\n",
    "r=6.0\n",
    "V=4.0/3.0*pi*r**3\n",
    "print(\"Volume of the sphere is:\",V)\n"
   ]
  },
  {
   "cell_type": "code",
   "execution_count": 7,
   "metadata": {},
   "outputs": [
    {
     "name": "stdout",
     "output_type": "stream",
     "text": [
      "1\n",
      "2\n",
      "3\n",
      "4\n",
      "5\n",
      "6\n",
      "7\n",
      "8\n",
      "9\n",
      "10\n"
     ]
    }
   ],
   "source": [
    "a=1\n",
    "while(a<=10):\n",
    "    print(a)\n",
    "    a=a+1\n",
    "    "
   ]
  },
  {
   "cell_type": "code",
   "execution_count": 10,
   "metadata": {},
   "outputs": [
    {
     "name": "stdout",
     "output_type": "stream",
     "text": [
      "1\n",
      "2\n",
      "3\n",
      "4\n",
      "5\n",
      "6\n",
      "7\n",
      "8\n",
      "9\n",
      "10\n"
     ]
    }
   ],
   "source": [
    "n=int(input(\"Enter the number:\"))\n",
    "a=1\n",
    "while(a<=n):\n",
    "    print(a)\n",
    "    a=a+1\n",
    "    \n",
    "    "
   ]
  },
  {
   "cell_type": "code",
   "execution_count": 11,
   "metadata": {},
   "outputs": [
    {
     "name": "stdout",
     "output_type": "stream",
     "text": [
      "10\n",
      "9\n",
      "8\n",
      "7\n",
      "6\n",
      "5\n",
      "4\n",
      "3\n",
      "2\n",
      "1\n"
     ]
    }
   ],
   "source": [
    "i=10\n",
    "while(i>=1):\n",
    "    print(i)\n",
    "    i=i-1\n",
    "    "
   ]
  },
  {
   "cell_type": "code",
   "execution_count": 14,
   "metadata": {},
   "outputs": [
    {
     "name": "stdout",
     "output_type": "stream",
     "text": [
      "1\n",
      "2\n",
      "3\n",
      "4\n"
     ]
    }
   ],
   "source": [
    "a=1\n",
    "while a<5:\n",
    "    print(a)\n",
    "    a+=1\n",
    "    "
   ]
  },
  {
   "cell_type": "code",
   "execution_count": 12,
   "metadata": {},
   "outputs": [
    {
     "name": "stdout",
     "output_type": "stream",
     "text": [
      "5\n",
      "4\n",
      "3\n",
      "2\n",
      "1\n"
     ]
    }
   ],
   "source": [
    "\n",
    "n=int(input(\"Enter theh number:\"))\n",
    "while(n>=1):\n",
    "    print(n)\n",
    "    n=n-1\n",
    "    "
   ]
  },
  {
   "cell_type": "code",
   "execution_count": 3,
   "metadata": {},
   "outputs": [
    {
     "name": "stdout",
     "output_type": "stream",
     "text": [
      "2\n",
      "4\n"
     ]
    }
   ],
   "source": [
    "def list_count_4(nums):\n",
    "    count=0\n",
    "    for num in nums:\n",
    "        if num==4:\n",
    "            count=count+1\n",
    "    return count\n",
    "print(list_count_4([1,2,4,6,7,4,8]))\n",
    "print(list_count_4([1,4,6,7,8,4,9,4,8,4]))\n",
    "        \n",
    "            "
   ]
  },
  {
   "cell_type": "code",
   "execution_count": 5,
   "metadata": {},
   "outputs": [
    {
     "name": "stdout",
     "output_type": "stream",
     "text": [
      "True\n",
      "False\n"
     ]
    }
   ],
   "source": [
    "def is_vowel(char):\n",
    "    all_vowel=\"AEIOUaeiou\"\n",
    "    return char in all_vowel\n",
    "print(is_vowel('A'))\n",
    "print(is_vowel('B'))    "
   ]
  },
  {
   "cell_type": "code",
   "execution_count": 4,
   "metadata": {},
   "outputs": [
    {
     "name": "stdout",
     "output_type": "stream",
     "text": [
      "Correct\n"
     ]
    }
   ],
   "source": [
    "a=5.2\n",
    "if type(a) is not int:\n",
    "    print(\"Correct\")\n",
    "else:\n",
    "    print(\"Incoorect\") \n",
    "       "
   ]
  },
  {
   "cell_type": "code",
   "execution_count": 1,
   "metadata": {},
   "outputs": [
    {
     "name": "stdout",
     "output_type": "stream",
     "text": [
      "40  is less than 100\n",
      "40 is between 20 and 50\n"
     ]
    }
   ],
   "source": [
    "a=40\n",
    "if(a<100):\n",
    "    print(40,\" is less than 100\")\n",
    "    if(100<=a<=300):\n",
    "        print(\"a is between 100 and 300 \")\n",
    "    elif(20<=a<=50):  \n",
    "        print(a,\"is between 20 and 50\") \n",
    "    else:\n",
    "        print(a,\"is greter than 20\")\n",
    "elif(20<=a<=200):\n",
    "    print(a,\"is between 20 and 200\")\n",
    "else:\n",
    "    print(a,\"is greter than 20\") \n",
    "                    \n",
    "        "
   ]
  },
  {
   "cell_type": "code",
   "execution_count": 3,
   "metadata": {},
   "outputs": [
    {
     "name": "stdout",
     "output_type": "stream",
     "text": [
      "150 is less than 200\n"
     ]
    }
   ],
   "source": [
    "a=150\n",
    "b=200\n",
    "if(a<b):\n",
    "    print(a,\"is less than\",b)\n",
    "    if(20<=a<=100):\n",
    "        print(a,\"is between 20 and 100\")\n",
    "    elif(a<10):\n",
    "        print(a,\"is less than 10\")\n",
    "else:\n",
    "    print(a,\"is bigger number than\",b) \n",
    "               "
   ]
  },
  {
   "cell_type": "code",
   "execution_count": 2,
   "metadata": {},
   "outputs": [
    {
     "name": "stdout",
     "output_type": "stream",
     "text": [
      "hello prajwal\n"
     ]
    }
   ],
   "source": [
    "def message():\n",
    "    print(\"hello prajwal\")\n",
    "message()    "
   ]
  },
  {
   "cell_type": "code",
   "execution_count": 5,
   "metadata": {},
   "outputs": [
    {
     "name": "stdout",
     "output_type": "stream",
     "text": [
      "True\n"
     ]
    }
   ],
   "source": [
    "x=[\"apple\",\"banana\"]\n",
    "y=[\"apple\",\"banana\"]\n",
    "p=x\n",
    "print(x is p)\n"
   ]
  },
  {
   "cell_type": "code",
   "execution_count": 6,
   "metadata": {},
   "outputs": [
    {
     "name": "stdout",
     "output_type": "stream",
     "text": [
      "True\n"
     ]
    }
   ],
   "source": [
    "x=[\"apple\",\"banana\"]\n",
    "y=[\"apple\",\"banana\"]\n",
    "z=x\n",
    "print(x is z)\n"
   ]
  },
  {
   "cell_type": "code",
   "execution_count": 7,
   "metadata": {},
   "outputs": [
    {
     "name": "stdout",
     "output_type": "stream",
     "text": [
      "False\n"
     ]
    }
   ],
   "source": [
    "print(x is not z)\n"
   ]
  },
  {
   "cell_type": "code",
   "execution_count": 8,
   "metadata": {},
   "outputs": [
    {
     "name": "stdout",
     "output_type": "stream",
     "text": [
      "False\n"
     ]
    }
   ],
   "source": [
    "print(x is y)"
   ]
  },
  {
   "cell_type": "code",
   "execution_count": 9,
   "metadata": {},
   "outputs": [
    {
     "name": "stdout",
     "output_type": "stream",
     "text": [
      "True\n"
     ]
    }
   ],
   "source": [
    "print(x==y)\n"
   ]
  },
  {
   "cell_type": "code",
   "execution_count": 14,
   "metadata": {},
   "outputs": [
    {
     "name": "stdout",
     "output_type": "stream",
     "text": [
      "True\n",
      "True\n",
      "False\n"
     ]
    }
   ],
   "source": [
    "a=15\n",
    "b=15\n",
    "c=\"apple\"\n",
    "d=\"apple\"\n",
    "e=[1,2,3]\n",
    "f=[1,2,3]\n",
    "x=a\n",
    "print(x is b)\n",
    "y=c\n",
    "print(y is d)\n",
    "z=e\n",
    "print(z is f)"
   ]
  },
  {
   "cell_type": "code",
   "execution_count": 15,
   "metadata": {},
   "outputs": [
    {
     "name": "stdout",
     "output_type": "stream",
     "text": [
      "2292768744816\n",
      "2292768746320\n",
      "2292768744816\n",
      "After identify id  tp check class and type\n",
      "False\n",
      "True\n",
      "False\n"
     ]
    }
   ],
   "source": [
    "a=500\n",
    "b=500\n",
    "c=a\n",
    "print(id(a))\n",
    "print(id(b))\n",
    "print(id(c))\n",
    "print(\"After identify id  tp check class and type\")\n",
    "print(a is b)\n",
    "print(c is a)\n",
    "print(c is b)\n"
   ]
  },
  {
   "cell_type": "code",
   "execution_count": 16,
   "metadata": {},
   "outputs": [
    {
     "name": "stdout",
     "output_type": "stream",
     "text": [
      "140710526366472\n",
      "140710526366472\n",
      "140710526366472\n",
      "True\n",
      "True\n",
      "True\n"
     ]
    }
   ],
   "source": [
    "a=256\n",
    "b=256\n",
    "c=a\n",
    "print(id(a))\n",
    "print(id(b))\n",
    "print(id(c))\n",
    "print(a is b)\n",
    "print(c is a)\n",
    "print(c is b)\n"
   ]
  },
  {
   "cell_type": "code",
   "execution_count": 17,
   "metadata": {},
   "outputs": [
    {
     "name": "stdout",
     "output_type": "stream",
     "text": [
      "2292768746192\n",
      "2292768746288\n",
      "False\n"
     ]
    }
   ],
   "source": [
    "a=257\n",
    "b=257\n",
    "print(id(a))\n",
    "print(id(b))\n",
    "print(a is b)\n"
   ]
  },
  {
   "cell_type": "code",
   "execution_count": 3,
   "metadata": {},
   "outputs": [
    {
     "data": {
      "text/plain": [
       "'c:\\\\Users\\\\HP\\\\Desktop\\\\assignment day two'"
      ]
     },
     "execution_count": 3,
     "metadata": {},
     "output_type": "execute_result"
    }
   ],
   "source": [
    "import os\n",
    "os.getcwd()\n"
   ]
  },
  {
   "cell_type": "code",
   "execution_count": 4,
   "metadata": {},
   "outputs": [
    {
     "name": "stdout",
     "output_type": "stream",
     "text": [
      "2298664492016\n",
      "2298664492752\n",
      "2298664492016\n"
     ]
    }
   ],
   "source": [
    "a=500\n",
    "b=500\n",
    "c=a\n",
    "print(id(a))\n",
    "print(id(b))\n",
    "print(id(c))\n"
   ]
  },
  {
   "cell_type": "code",
   "execution_count": 5,
   "metadata": {},
   "outputs": [
    {
     "name": "stdout",
     "output_type": "stream",
     "text": [
      "False\n"
     ]
    }
   ],
   "source": [
    "print(a is b)"
   ]
  },
  {
   "cell_type": "code",
   "execution_count": 6,
   "metadata": {},
   "outputs": [
    {
     "name": "stdout",
     "output_type": "stream",
     "text": [
      "False\n",
      "True\n",
      "False\n"
     ]
    }
   ],
   "source": [
    "print(a is b)\n",
    "print(a is c)\n",
    "print(b is c)\n"
   ]
  },
  {
   "cell_type": "code",
   "execution_count": 7,
   "metadata": {},
   "outputs": [
    {
     "name": "stdout",
     "output_type": "stream",
     "text": [
      "False\n",
      "True\n",
      "False\n",
      "after implementation of identity oprator check the id\n",
      "2298665941184\n",
      "2298665941184\n",
      "2298665798080\n"
     ]
    }
   ],
   "source": [
    "l1=[\"sat\",\"sun\"]\n",
    "l2=[\"sat\",\"sun\"]\n",
    "l3=l1\n",
    "print(l1 is l2)\n",
    "print(l1 is l3)\n",
    "print(l2 is l3)\n",
    "print(\"after implementation of identity oprator check the id\")\n",
    "print(id(l1))\n",
    "print(id(l3))\n",
    "print(id(l2))\n"
   ]
  },
  {
   "cell_type": "code",
   "execution_count": 8,
   "metadata": {},
   "outputs": [
    {
     "data": {
      "text/plain": [
       "['sat', 'sun']"
      ]
     },
     "execution_count": 8,
     "metadata": {},
     "output_type": "execute_result"
    }
   ],
   "source": [
    "l1"
   ]
  },
  {
   "cell_type": "code",
   "execution_count": 9,
   "metadata": {},
   "outputs": [
    {
     "name": "stdout",
     "output_type": "stream",
     "text": [
      "['sat', 'sun']\n",
      "['sat', 'sun']\n",
      "['sat', 'sun']\n"
     ]
    }
   ],
   "source": [
    "print(l1)\n",
    "print(l2)\n",
    "print(l3)\n"
   ]
  },
  {
   "cell_type": "code",
   "execution_count": 10,
   "metadata": {},
   "outputs": [
    {
     "name": "stdout",
     "output_type": "stream",
     "text": [
      "['mon', 'sun']\n"
     ]
    }
   ],
   "source": [
    "l1[0]=\"mon\"\n",
    "print(l1)\n"
   ]
  },
  {
   "cell_type": "code",
   "execution_count": 11,
   "metadata": {},
   "outputs": [
    {
     "name": "stdout",
     "output_type": "stream",
     "text": [
      "['mon', 'sun']\n",
      "['sat', 'sun']\n",
      "['mon', 'sun']\n"
     ]
    }
   ],
   "source": [
    "print(l1)\n",
    "print(l2)\n",
    "print(l3)"
   ]
  },
  {
   "cell_type": "code",
   "execution_count": 12,
   "metadata": {},
   "outputs": [
    {
     "name": "stdout",
     "output_type": "stream",
     "text": [
      "['fri', 'sun']\n"
     ]
    }
   ],
   "source": [
    "l2[0]=\"fri\"\n",
    "print(l2)\n"
   ]
  },
  {
   "cell_type": "code",
   "execution_count": 13,
   "metadata": {},
   "outputs": [
    {
     "name": "stdout",
     "output_type": "stream",
     "text": [
      "['mon', 'sun']\n",
      "['fri', 'sun']\n",
      "['mon', 'sun']\n"
     ]
    }
   ],
   "source": [
    "print(l1)\n",
    "print(l2)\n",
    "print(l3)\n"
   ]
  },
  {
   "cell_type": "code",
   "execution_count": 14,
   "metadata": {},
   "outputs": [
    {
     "name": "stdout",
     "output_type": "stream",
     "text": [
      "2298665941184\n",
      "2298665798080\n",
      "2298665941184\n"
     ]
    }
   ],
   "source": [
    "print(id(l1))\n",
    "print(id(l2))\n",
    "print(id(l3))\n"
   ]
  },
  {
   "cell_type": "code",
   "execution_count": 15,
   "metadata": {},
   "outputs": [
    {
     "name": "stdout",
     "output_type": "stream",
     "text": [
      "['apple', 'banana']\n"
     ]
    }
   ],
   "source": [
    "x=[\"apple\",\"banana\"]\n",
    "y=[\"apple\",\"banana\"]\n",
    "z=x\n",
    "print(z)\n"
   ]
  },
  {
   "cell_type": "code",
   "execution_count": 16,
   "metadata": {},
   "outputs": [
    {
     "name": "stdout",
     "output_type": "stream",
     "text": [
      "2298665800192\n",
      "2298666066176\n",
      "2298665800192\n"
     ]
    }
   ],
   "source": [
    "print(id(x))\n",
    "print(id(y))\n",
    "print(id(z))\n"
   ]
  },
  {
   "cell_type": "code",
   "execution_count": 17,
   "metadata": {},
   "outputs": [
    {
     "name": "stdout",
     "output_type": "stream",
     "text": [
      "False\n"
     ]
    }
   ],
   "source": [
    "print(x is y)"
   ]
  },
  {
   "cell_type": "code",
   "execution_count": 18,
   "metadata": {},
   "outputs": [
    {
     "name": "stdout",
     "output_type": "stream",
     "text": [
      "True\n",
      "False\n"
     ]
    }
   ],
   "source": [
    "print(x is z)\n",
    "print(y is z)\n"
   ]
  },
  {
   "cell_type": "code",
   "execution_count": 19,
   "metadata": {},
   "outputs": [
    {
     "name": "stdout",
     "output_type": "stream",
     "text": [
      "True\n"
     ]
    }
   ],
   "source": [
    "print(x==y)\n"
   ]
  },
  {
   "cell_type": "code",
   "execution_count": 20,
   "metadata": {},
   "outputs": [
    {
     "name": "stdout",
     "output_type": "stream",
     "text": [
      "Yes 10 is present in list\n"
     ]
    }
   ],
   "source": [
    "a=10\n",
    "list=[10,20,30,40,50]\n",
    "if a in list:\n",
    "    print(\"Yes\",a,\"is present in list\")\n",
    "else:\n",
    "    print(\"No\",a,\"is not present in list\") \n",
    "       "
   ]
  },
  {
   "cell_type": "code",
   "execution_count": 21,
   "metadata": {},
   "outputs": [
    {
     "name": "stdout",
     "output_type": "stream",
     "text": [
      "[10, 20, 30, 40, 50]\n"
     ]
    }
   ],
   "source": [
    "x=[10,20,30,40,50]\n",
    "print(x)\n"
   ]
  },
  {
   "cell_type": "code",
   "execution_count": 22,
   "metadata": {},
   "outputs": [
    {
     "name": "stdout",
     "output_type": "stream",
     "text": [
      "True\n"
     ]
    }
   ],
   "source": [
    "print(30 in list)\n"
   ]
  },
  {
   "cell_type": "code",
   "execution_count": 23,
   "metadata": {},
   "outputs": [
    {
     "name": "stdout",
     "output_type": "stream",
     "text": [
      "False\n"
     ]
    }
   ],
   "source": [
    "print(30 not in list)\n"
   ]
  },
  {
   "cell_type": "code",
   "execution_count": 24,
   "metadata": {},
   "outputs": [
    {
     "name": "stdout",
     "output_type": "stream",
     "text": [
      "['jon', 'sam', 'rick']\n"
     ]
    }
   ],
   "source": [
    "x=[\"jon\",\"sam\",\"rick\"]\n",
    "print(x)\n"
   ]
  },
  {
   "cell_type": "code",
   "execution_count": 26,
   "metadata": {},
   "outputs": [
    {
     "name": "stdout",
     "output_type": "stream",
     "text": [
      "True\n"
     ]
    }
   ],
   "source": [
    "print(\"jon\" in x)\n"
   ]
  },
  {
   "cell_type": "code",
   "execution_count": 27,
   "metadata": {},
   "outputs": [
    {
     "name": "stdout",
     "output_type": "stream",
     "text": [
      "False\n"
     ]
    }
   ],
   "source": [
    "print(\"sam\" not in x)\n"
   ]
  },
  {
   "cell_type": "code",
   "execution_count": 28,
   "metadata": {},
   "outputs": [
    {
     "name": "stdout",
     "output_type": "stream",
     "text": [
      "True\n"
     ]
    }
   ],
   "source": [
    "print(\"sat\" not in x)\n"
   ]
  },
  {
   "cell_type": "code",
   "execution_count": 29,
   "metadata": {},
   "outputs": [
    {
     "data": {
      "text/plain": [
       "['pajju', 'manu', 'samu', 'seju']"
      ]
     },
     "execution_count": 29,
     "metadata": {},
     "output_type": "execute_result"
    }
   ],
   "source": [
    "m=[\"pajju\",\"manu\",\"samu\",\"seju\"]\n",
    "m\n"
   ]
  },
  {
   "cell_type": "code",
   "execution_count": 1,
   "metadata": {},
   "outputs": [
    {
     "name": "stdout",
     "output_type": "stream",
     "text": [
      "500\n",
      "500 is greter than 300\n"
     ]
    }
   ],
   "source": [
    "a=500\n",
    "b=300\n",
    "c=400\n",
    "if(a>b):\n",
    "    print(a)\n",
    "    print(a,\"is greter than\",b)\n",
    "    "
   ]
  },
  {
   "cell_type": "code",
   "execution_count": 4,
   "metadata": {},
   "outputs": [
    {
     "name": "stdout",
     "output_type": "stream",
     "text": [
      "Number is even\n"
     ]
    }
   ],
   "source": [
    "a=int(input(\"Enter the number:\"))\n",
    "if(a%2==0):\n",
    "    print(\"Number is even\")\n",
    "else:\n",
    "    print(\"Number is odd\") \n",
    "       "
   ]
  },
  {
   "cell_type": "code",
   "execution_count": 6,
   "metadata": {},
   "outputs": [
    {
     "name": "stdout",
     "output_type": "stream",
     "text": [
      "Eligible for voting\n"
     ]
    }
   ],
   "source": [
    "a=int(input(\"Enter the number:\"))\n",
    "if(a>=18):\n",
    "    print(\"Eligible for voting\")\n",
    "else:\n",
    "    print(\"Not eligible for voting\") \n",
    "       "
   ]
  },
  {
   "cell_type": "code",
   "execution_count": 7,
   "metadata": {},
   "outputs": [
    {
     "name": "stdout",
     "output_type": "stream",
     "text": [
      "max number is: 3\n"
     ]
    }
   ],
   "source": [
    "#write a program yo check max between two numbers:\n",
    "a=int(input(\"Enter the 1st number:\"))\n",
    "b=int(input(\"Enter the 2nd number:\"))\n",
    "if(a>b):\n",
    "    print(\"max number is:\",a)\n",
    "else:\n",
    "    print(\"max number is:\",b)    "
   ]
  },
  {
   "cell_type": "code",
   "execution_count": 10,
   "metadata": {},
   "outputs": [
    {
     "name": "stdout",
     "output_type": "stream",
     "text": [
      "max number is: 3\n"
     ]
    }
   ],
   "source": [
    "a=int(input(\"Enter the 1st number:\"))\n",
    "b=int(input(\"Enter the 2nd number:\"))\n",
    "c=int(input(\"Enter the 3rd number:\"))\n",
    "if (a>b and a>c):\n",
    "    print(\"max number is:\",a)\n",
    "elif (b>a and b>c):\n",
    "    print(\"max number is:\",b)\n",
    "else:\n",
    "    print(\"max number is:\",c)\n",
    "            "
   ]
  },
  {
   "cell_type": "code",
   "execution_count": 14,
   "metadata": {},
   "outputs": [
    {
     "name": "stdout",
     "output_type": "stream",
     "text": [
      "a is negative number:\n"
     ]
    }
   ],
   "source": [
    "#write a program to check number is positive,negative and zero:\n",
    "a=int(input(\"Enter the number:\"))\n",
    "if a>0:\n",
    "    print(\"a is positive number\")\n",
    "elif a<0:\n",
    "    print(\"a is negative number:\") \n",
    "else:\n",
    "    print(\"zero\") \n",
    "          "
   ]
  },
  {
   "cell_type": "code",
   "execution_count": 16,
   "metadata": {},
   "outputs": [
    {
     "name": "stdout",
     "output_type": "stream",
     "text": [
      "max number is: 3\n"
     ]
    }
   ],
   "source": [
    "a=int(input(\"Enter the fisrt number:\"))\n",
    "b=int(input(\"Enter the second number:\"))\n",
    "c=int(input(\"Enter the thired number:\"))\n",
    "if(a>b and a>c):\n",
    "    print(\"max number is:\",a)\n",
    "elif (b>a and b>c):\n",
    "    print(\"max number is:\",b) \n",
    "else:\n",
    "    print(\"max number is:\",c) \n",
    "          "
   ]
  },
  {
   "cell_type": "code",
   "execution_count": 18,
   "metadata": {},
   "outputs": [
    {
     "name": "stdout",
     "output_type": "stream",
     "text": [
      "middle number is: 5\n"
     ]
    }
   ],
   "source": [
    "a=int(input(\"Enter the 1st number:\"))\n",
    "b=int(input(\"Enter the 2nd number:\"))\n",
    "c=int(input(\"Enter the 3rd number:\"))\n",
    "if(a>b and a<c) or (a>c and a<b):\n",
    "    print(\"middle number is:\",a)\n",
    "elif(b>a and b<c) or (b>c and b<a):\n",
    "    print(\"middle number is:\",b) \n",
    "else:\n",
    "    print(\"middle number is:\",c)\n",
    "          "
   ]
  },
  {
   "cell_type": "code",
   "execution_count": 20,
   "metadata": {},
   "outputs": [
    {
     "name": "stdout",
     "output_type": "stream",
     "text": [
      "total mark: 468 and percentage 93.60000000000001\n",
      "you got A grade\n"
     ]
    }
   ],
   "source": [
    "a=int(input(\"Enter the 1st number:\"))\n",
    "b=int(input(\"Enter the 2nd number:\"))\n",
    "c=int(input(\"Enter the 3rd number:\"))\n",
    "d=int(input(\"Enter the 4th number:\"))\n",
    "e=int(input(\"Enter the 5th number:\"))\n",
    "total=a+b+c+d+e\n",
    "percent=total/500*100\n",
    "print(\"total mark:\",total,\"and\",\"percentage\",percent)\n",
    "if(percent>90):\n",
    "    print(\"you got A grade\")\n",
    "elif(percent>80):\n",
    "    print(\"you got B grade\")\n",
    "elif(percent>60):\n",
    "    print(\"ypu got C grade\")\n",
    "elif(percent<40):\n",
    "    print(\"you got D grade\")\n",
    "else:\n",
    "    print(\"fail\")                "
   ]
  },
  {
   "cell_type": "code",
   "execution_count": 21,
   "metadata": {},
   "outputs": [
    {
     "name": "stdout",
     "output_type": "stream",
     "text": [
      "middle number is: 55\n"
     ]
    }
   ],
   "source": [
    "a=int(input(\"Enter the 1st number is:\"))\n",
    "b=int(input(\"Enter the 2nd number is:\"))\n",
    "c=int(input(\"Enter the 3rd number is:\"))\n",
    "if(a>b and a<c) or (a>c and a<b):\n",
    "    print(\"middle number is:\",a)\n",
    "elif(b>a and b<c) or (b>c and b<a):\n",
    "    print(\"middle number is:\",b)\n",
    "else:\n",
    "    print(\"middle number is:\",c)        "
   ]
  },
  {
   "cell_type": "code",
   "execution_count": 23,
   "metadata": {},
   "outputs": [
    {
     "data": {
      "text/plain": [
       "'c:\\\\Users\\\\HP\\\\Desktop\\\\assignment day two'"
      ]
     },
     "execution_count": 23,
     "metadata": {},
     "output_type": "execute_result"
    }
   ],
   "source": [
    "import os\n",
    "os.getcwd()\n"
   ]
  },
  {
   "cell_type": "code",
   "execution_count": 24,
   "metadata": {},
   "outputs": [
    {
     "name": "stdout",
     "output_type": "stream",
     "text": [
      "500\n",
      "500 is greter than 300\n"
     ]
    }
   ],
   "source": [
    "a=500\n",
    "b=300\n",
    "c=400\n",
    "if(a>b):\n",
    "    print(a)\n",
    "    print(a,\"is greter than\",b)\n",
    "    \n",
    "    "
   ]
  },
  {
   "cell_type": "code",
   "execution_count": 30,
   "metadata": {},
   "outputs": [
    {
     "name": "stdout",
     "output_type": "stream",
     "text": [
      "a is less than b\n"
     ]
    }
   ],
   "source": [
    "a=200\n",
    "b=300\n",
    "c=400\n",
    "if (a<b):\n",
    "    print('a is less than b')"
   ]
  },
  {
   "cell_type": "code",
   "execution_count": 33,
   "metadata": {},
   "outputs": [
    {
     "name": "stdout",
     "output_type": "stream",
     "text": [
      "500\n",
      "500 is greter than equal 500\n"
     ]
    }
   ],
   "source": [
    "a=500\n",
    "b=500\n",
    "c=400\n",
    "if a>=b:\n",
    "    print(a)\n",
    "    print(a,\"is greter than equal\",b)\n",
    "    "
   ]
  },
  {
   "cell_type": "code",
   "execution_count": 35,
   "metadata": {},
   "outputs": [
    {
     "name": "stdout",
     "output_type": "stream",
     "text": [
      "500 is greter than equal 500\n",
      "500 is greter than equal 500\n",
      "500 is grtet than 400\n"
     ]
    }
   ],
   "source": [
    "a=500\n",
    "b=500\n",
    "c=400\n",
    "if(a>=b):\n",
    "    print(a,\"is greter than equal\",b)\n",
    "if(b>=a):\n",
    "    print(b,\"is greter than equal\",a)\n",
    "if(c<b):\n",
    "    print(b,\"is grtet than\",c)\n",
    "            "
   ]
  },
  {
   "cell_type": "code",
   "execution_count": 36,
   "metadata": {},
   "outputs": [
    {
     "name": "stdout",
     "output_type": "stream",
     "text": [
      "500 is greter than 500\n"
     ]
    }
   ],
   "source": [
    "a=500\n",
    "b=500\n",
    "c=400\n",
    "if(a>=b):\n",
    "    print(a,\"is greter than\",b)\n",
    "elif(b>=a):\n",
    "    print(b,\"is greter than\",a)\n",
    "elif(c<b):\n",
    "    print(c,\"is less than\",b)\n",
    "            "
   ]
  },
  {
   "cell_type": "code",
   "execution_count": 37,
   "metadata": {},
   "outputs": [
    {
     "name": "stdout",
     "output_type": "stream",
     "text": [
      "100 is equal to 100\n"
     ]
    }
   ],
   "source": [
    "a=100\n",
    "b=100\n",
    "if(a>b):\n",
    "    print(a,\"is greter than\",b)\n",
    "elif(b>a):\n",
    "    print(b,\"is greter than\",a)\n",
    "else:\n",
    "    print(a,\"is equal to\",b)\n",
    "            "
   ]
  },
  {
   "cell_type": "code",
   "execution_count": 38,
   "metadata": {},
   "outputs": [
    {
     "name": "stdout",
     "output_type": "stream",
     "text": [
      "b is greter than c\n"
     ]
    }
   ],
   "source": [
    "a=500\n",
    "b=500\n",
    "c=400\n",
    "if(a>b):\n",
    "    print(\"a is greter than b\")\n",
    "elif(c<b):\n",
    "    print(\"b is greter than c\")\n",
    "else:\n",
    "    print(\"a is equal to b\")\n",
    "            "
   ]
  },
  {
   "cell_type": "code",
   "execution_count": 41,
   "metadata": {},
   "outputs": [
    {
     "name": "stdout",
     "output_type": "stream",
     "text": [
      "300 is greter than 100\n"
     ]
    }
   ],
   "source": [
    "a=300\n",
    "if(a<100):\n",
    "    print(a,\"is less than\",100)\n",
    "elif(100<=a<=200):\n",
    "    print(a,\"is between 100 and 200\")\n",
    "else:\n",
    "    print(a,\"is greter than\",100)\n",
    "            "
   ]
  },
  {
   "cell_type": "code",
   "execution_count": 18,
   "metadata": {},
   "outputs": [
    {
     "name": "stdout",
     "output_type": "stream",
     "text": [
      "2\n",
      "6\n",
      "12\n",
      "20\n"
     ]
    }
   ],
   "source": [
    "n=int(input(\"Enter the number:\"))\n",
    "sum=0\n",
    "i=2\n",
    "while(i<+n):\n",
    "    sum=sum+i\n",
    "    i=i+2\n",
    "    print(sum)"
   ]
  },
  {
   "cell_type": "code",
   "execution_count": 20,
   "metadata": {},
   "outputs": [
    {
     "name": "stdout",
     "output_type": "stream",
     "text": [
      "2\n",
      "4\n",
      "6\n",
      "8\n",
      "10\n"
     ]
    }
   ],
   "source": [
    "n=int(input(\"Enter the number:\"))\n",
    "i=2\n",
    "while(i<=n):\n",
    "    print(i)\n",
    "    i=i+2\n",
    "    "
   ]
  },
  {
   "cell_type": "code",
   "execution_count": 4,
   "metadata": {},
   "outputs": [
    {
     "name": "stdout",
     "output_type": "stream",
     "text": [
      "9\n"
     ]
    }
   ],
   "source": [
    "no1=int(input(\"enter the  first number:\"))\n",
    "no2=int(input(\"Enter the second number:\"))\n",
    "total=no1+no2\n",
    "print(total)\n",
    "\n",
    "\n"
   ]
  },
  {
   "cell_type": "code",
   "execution_count": null,
   "metadata": {},
   "outputs": [],
   "source": [
    "no1"
   ]
  },
  {
   "cell_type": "code",
   "execution_count": 7,
   "metadata": {},
   "outputs": [
    {
     "name": "stdout",
     "output_type": "stream",
     "text": [
      "Total mark: 467 percentage: 93.4\n",
      "You have got Grade A\n"
     ]
    }
   ],
   "source": [
    "a=int(input(\"Enter the number:\"))\n",
    "b=int(input(\"Enter the number:\"))\n",
    "c=int(input(\"Enter the number:\"))\n",
    "d=int(input(\"Enter the number:\"))\n",
    "e=int(input(\"Enter the number:\"))\n",
    "total=a+b+c+d+e\n",
    "percent=total/500*100\n",
    "print(\"Total mark:\",total,\"percentage:\",percent)\n",
    "if(percent>=90):\n",
    "    print(\"You have got Grade A\")\n",
    "elif(percent>=80):\n",
    "    print(\"You have got Grade B\") \n",
    "elif(percent>=60):\n",
    "    print(\"You have got Grade C\")\n",
    "elif(percent>=50):\n",
    "    print(\"You have got Grade D\")\n",
    "elif(percent>=30):\n",
    "    print(\"You have got Grade E\") \n",
    "else:\n",
    "    print(\"fail\")\n",
    "              \n",
    "           "
   ]
  },
  {
   "cell_type": "code",
   "execution_count": 9,
   "metadata": {},
   "outputs": [
    {
     "name": "stdout",
     "output_type": "stream",
     "text": [
      "The area of the circle with radius: 1.1 is: 3.8013271108436504\n"
     ]
    }
   ],
   "source": [
    "from math import pi\n",
    "r=float(input(\"Enter the radius of the circle:\"))\n",
    "print(\"The area of the circle with radius: \" +str(r)+ \" is: \" +str(pi*r**2))"
   ]
  },
  {
   "cell_type": "code",
   "execution_count": 10,
   "metadata": {},
   "outputs": [
    {
     "name": "stdout",
     "output_type": "stream",
     "text": [
      "python version\n",
      "3.11.4 | packaged by Anaconda, Inc. | (main, Jul  5 2023, 13:38:37) [MSC v.1916 64 bit (AMD64)]\n",
      "version information\n",
      "sys.version_info(major=3, minor=11, micro=4, releaselevel='final', serial=0)\n"
     ]
    }
   ],
   "source": [
    "import sys\n",
    "print(\"python version\")\n",
    "print(sys.version)\n",
    "print(\"version information\")\n",
    "print(sys.version_info)\n"
   ]
  },
  {
   "cell_type": "code",
   "execution_count": 14,
   "metadata": {},
   "outputs": [
    {
     "name": "stdout",
     "output_type": "stream",
     "text": [
      "2023-12-21 09:41:54.093314\n"
     ]
    }
   ],
   "source": [
    "import datetime\n",
    "x=datetime.datetime.now()\n",
    "print(x)\n"
   ]
  },
  {
   "cell_type": "code",
   "execution_count": 16,
   "metadata": {},
   "outputs": [
    {
     "name": "stdout",
     "output_type": "stream",
     "text": [
      "Current date and time:\n",
      "2023-12-21\n",
      "09:45:10\n"
     ]
    }
   ],
   "source": [
    "import datetime\n",
    "now=datetime.datetime.now()\n",
    "print(\"Current date and time:\")\n",
    "print(now.strftime(\"%Y-%m-%d\"))\n",
    "print(now.strftime('%H:%M:%S'))\n"
   ]
  },
  {
   "cell_type": "code",
   "execution_count": 18,
   "metadata": {},
   "outputs": [
    {
     "name": "stdout",
     "output_type": "stream",
     "text": [
      "The area of the circle is: 1.1 is:3.8013271108436504\n"
     ]
    }
   ],
   "source": [
    "from math import pi\n",
    "r=float(input(\"Enter the number:\"))\n",
    "print(\"The area of the circle is: \" +str(r)+ \" is:\" +str(pi*r**2) )\n"
   ]
  },
  {
   "cell_type": "code",
   "execution_count": 20,
   "metadata": {},
   "outputs": [
    {
     "name": "stdout",
     "output_type": "stream",
     "text": [
      " Hello  ghotkar  prajwal \n"
     ]
    }
   ],
   "source": [
    "fname=input(\"Enter your name:\")\n",
    "lname=input(\"Enter your name:\")\n",
    "print(\" Hello  \" +lname+ \"  \" +fname) \n"
   ]
  },
  {
   "cell_type": "code",
   "execution_count": 30,
   "metadata": {},
   "outputs": [
    {
     "name": "stdout",
     "output_type": "stream",
     "text": [
      "Hello python coder prajwal\n",
      "Hello python coder prajwal\n",
      "Hello python coder prajwal\n",
      "Hello python coder prajwal\n"
     ]
    }
   ],
   "source": [
    "def message():\n",
    "    print(\"Hello python coder prajwal\")\n",
    "message()\n",
    "message()\n",
    "message()\n",
    "message()\n",
    "\n",
    "\n",
    "\n",
    "    \n",
    "    "
   ]
  },
  {
   "cell_type": "code",
   "execution_count": 34,
   "metadata": {},
   "outputs": [
    {
     "name": "stdout",
     "output_type": "stream",
     "text": [
      "Addition: 5\n",
      "Addition: 7\n",
      "Addition: 9\n"
     ]
    }
   ],
   "source": [
    "def add():\n",
    "    a=int(input(\"Enter the number:\"))\n",
    "    b=int(input(\"Enter the number:\"))\n",
    "    c=a+b\n",
    "    print(\"Addition:\",c)\n",
    "add()\n",
    "add()\n",
    "add()\n",
    "\n",
    "\n",
    "    \n",
    "    "
   ]
  },
  {
   "cell_type": "code",
   "execution_count": 42,
   "metadata": {},
   "outputs": [
    {
     "name": "stdout",
     "output_type": "stream",
     "text": [
      "Addition: 5\n"
     ]
    }
   ],
   "source": [
    "def add():\n",
    "    a=int(input(\"Enter 1st the number:\"))\n",
    "    b=int(input(\"Enter 2nd the number:\"))\n",
    "    c=a+b\n",
    "    print(\"Addition:\",c)\n",
    "add()\n",
    "\n",
    "\n",
    "\n",
    "\n",
    "    \n",
    "    "
   ]
  },
  {
   "cell_type": "code",
   "execution_count": 43,
   "metadata": {},
   "outputs": [
    {
     "name": "stdout",
     "output_type": "stream",
     "text": [
      "Addition: 8\n"
     ]
    }
   ],
   "source": [
    "add()\n"
   ]
  },
  {
   "cell_type": "code",
   "execution_count": 47,
   "metadata": {},
   "outputs": [
    {
     "name": "stdout",
     "output_type": "stream",
     "text": [
      "Number is even\n",
      "Number is odd\n"
     ]
    }
   ],
   "source": [
    "def oddeven():\n",
    "    a=int(input(\"Enter the number:\"))\n",
    "    if(a%2==0):\n",
    "        print(\"Number is even\")\n",
    "    else:\n",
    "        print(\"Number is odd\")  \n",
    "oddeven()\n",
    "oddeven()\n",
    "\n",
    "            \n",
    "    "
   ]
  },
  {
   "cell_type": "code",
   "execution_count": 48,
   "metadata": {},
   "outputs": [
    {
     "name": "stdout",
     "output_type": "stream",
     "text": [
      "Number is even\n"
     ]
    }
   ],
   "source": [
    "oddeven()\n"
   ]
  },
  {
   "cell_type": "code",
   "execution_count": 51,
   "metadata": {},
   "outputs": [
    {
     "name": "stdout",
     "output_type": "stream",
     "text": [
      "Additon of two number: 9\n"
     ]
    }
   ],
   "source": [
    "#write a program to check number is even or odd\n",
    "def add(a,b):\n",
    "    c=a+b\n",
    "    print(\"Additon of two number:\",c)\n",
    "add(5,4)\n",
    "    "
   ]
  },
  {
   "cell_type": "code",
   "execution_count": 53,
   "metadata": {},
   "outputs": [
    {
     "name": "stdout",
     "output_type": "stream",
     "text": [
      "Addition of the two numbers: 17\n"
     ]
    }
   ],
   "source": [
    "def add(a,b):\n",
    "    c=a+b\n",
    "    print(\"Addition of the two numbers:\",c)\n",
    "x=int(input(\"Enter the 1st number:\"))\n",
    "y=int(input(\"netr the 2nd number:\")) \n",
    "add(8,9)\n",
    "   "
   ]
  },
  {
   "cell_type": "code",
   "execution_count": 56,
   "metadata": {},
   "outputs": [
    {
     "name": "stdout",
     "output_type": "stream",
     "text": [
      "Number is even\n"
     ]
    }
   ],
   "source": [
    "def oddeven(a):\n",
    "    if(a%2==0):\n",
    "        print('Number is even')\n",
    "    else:\n",
    "        print('Number is odd')\n",
    "oddeven(8)\n",
    "            "
   ]
  },
  {
   "cell_type": "code",
   "execution_count": 61,
   "metadata": {},
   "outputs": [
    {
     "name": "stdout",
     "output_type": "stream",
     "text": [
      "Addition: 13\n"
     ]
    }
   ],
   "source": [
    "def add():\n",
    "    a=int(input(\"Enter the number:\"))\n",
    "    b=int(input(\"Enter the number:\"))\n",
    "    c=a+b\n",
    "    return c\n",
    "sum=add()\n",
    "print(\"Addition:\",sum)"
   ]
  },
  {
   "cell_type": "code",
   "execution_count": 63,
   "metadata": {},
   "outputs": [
    {
     "name": "stdout",
     "output_type": "stream",
     "text": [
      "16\n"
     ]
    }
   ],
   "source": [
    "def add():\n",
    "    a=int(input(\"Enter the number:\"))\n",
    "    b=int(input(\"Enter the number:\"))\n",
    "    c=a+b\n",
    "    print(c)\n",
    "add()\n",
    "    "
   ]
  },
  {
   "cell_type": "code",
   "execution_count": 68,
   "metadata": {},
   "outputs": [
    {
     "name": "stdout",
     "output_type": "stream",
     "text": [
      "Add: 9\n"
     ]
    }
   ],
   "source": [
    "def add(a,b):\n",
    "    c=a+b\n",
    "    print(\"Add:\",c)\n",
    "x=int(input(\"Enterthe number:\"))\n",
    "y=int(input(\"Enter the number:\"))    \n",
    "add(x,y)\n",
    "\n",
    "    "
   ]
  },
  {
   "cell_type": "code",
   "execution_count": 69,
   "metadata": {},
   "outputs": [
    {
     "name": "stdout",
     "output_type": "stream",
     "text": [
      "addition of the number: 8\n"
     ]
    }
   ],
   "source": [
    "def add():\n",
    "    a=int(input('enter number:'))\n",
    "    b=int(input('enter number:'))\n",
    "    c=a+b\n",
    "    return c\n",
    "sum=add()\n",
    "print(\"addition of the number:\",sum)\n",
    "\n",
    "    "
   ]
  },
  {
   "cell_type": "code",
   "execution_count": 71,
   "metadata": {},
   "outputs": [
    {
     "name": "stdout",
     "output_type": "stream",
     "text": [
      "Addition of the number: 9\n"
     ]
    }
   ],
   "source": [
    "def add(a,b):\n",
    "    c=a+b\n",
    "    return c\n",
    "a=int(input(\"Enter the number:\"))\n",
    "b=int(input(\"Enter the number:\"))\n",
    "sum=add(a,b)\n",
    "print(\"Addition of the number:\",sum)\n"
   ]
  },
  {
   "cell_type": "code",
   "execution_count": 1,
   "metadata": {},
   "outputs": [
    {
     "name": "stdout",
     "output_type": "stream",
     "text": [
      "P\n",
      "y\n",
      "t\n",
      "h\n",
      "o\n",
      "n\n"
     ]
    }
   ],
   "source": [
    "a=\"Python\"\n",
    "for i in a:\n",
    "    print(i)\n",
    "    "
   ]
  },
  {
   "cell_type": "code",
   "execution_count": 2,
   "metadata": {},
   "outputs": [
    {
     "data": {
      "text/plain": [
       "'c:\\\\Users\\\\HP\\\\Desktop\\\\assignment day two'"
      ]
     },
     "execution_count": 2,
     "metadata": {},
     "output_type": "execute_result"
    }
   ],
   "source": [
    "import os\n",
    "os.getcwd()"
   ]
  },
  {
   "cell_type": "code",
   "execution_count": 6,
   "metadata": {},
   "outputs": [
    {
     "name": "stdout",
     "output_type": "stream",
     "text": [
      "2598681672304\n",
      "2598681672304\n",
      "2598681672304\n"
     ]
    }
   ],
   "source": [
    "a=\"python\"\n",
    "b=\"python\"\n",
    "c=a\n",
    "print(id(a))\n",
    "print(id(b))\n",
    "print(id(c))"
   ]
  },
  {
   "cell_type": "code",
   "execution_count": 7,
   "metadata": {},
   "outputs": [
    {
     "name": "stdout",
     "output_type": "stream",
     "text": [
      "['prajwal', 'lily', 'hacker', 'hack', 'google']\n"
     ]
    }
   ],
   "source": [
    "A=[\"prajwal\",\"lily\",\"hacker\"]\n",
    "B=[\"hack\",\"google\"]\n",
    "x=A+B\n",
    "print(x)"
   ]
  },
  {
   "cell_type": "code",
   "execution_count": 8,
   "metadata": {},
   "outputs": [
    {
     "name": "stdout",
     "output_type": "stream",
     "text": [
      "EveryDay\n"
     ]
    }
   ],
   "source": [
    "x=\"Every\"+\"Day\"\n",
    "print(x)\n"
   ]
  },
  {
   "cell_type": "code",
   "execution_count": 14,
   "metadata": {},
   "outputs": [
    {
     "data": {
      "text/plain": [
       "'PrajwalPrajwalPrajwal'"
      ]
     },
     "execution_count": 14,
     "metadata": {},
     "output_type": "execute_result"
    }
   ],
   "source": [
    "a=\"Prajwal\"\n",
    "3 * a\n",
    "\n"
   ]
  },
  {
   "cell_type": "code",
   "execution_count": 15,
   "metadata": {},
   "outputs": [
    {
     "data": {
      "text/plain": [
       "True"
      ]
     },
     "execution_count": 15,
     "metadata": {},
     "output_type": "execute_result"
    }
   ],
   "source": [
    "\"a\" in \"ram\""
   ]
  },
  {
   "cell_type": "code",
   "execution_count": 17,
   "metadata": {},
   "outputs": [
    {
     "name": "stdout",
     "output_type": "stream",
     "text": [
      "Python Coder Prajwal\n",
      "26\n"
     ]
    }
   ],
   "source": [
    "a=\"Hello Python Coder Prajwal\"\n",
    "print(a[6:26:1])\n",
    "print(len(a))"
   ]
  },
  {
   "cell_type": "code",
   "execution_count": 22,
   "metadata": {},
   "outputs": [
    {
     "name": "stdout",
     "output_type": "stream",
     "text": [
      "Hello P\n"
     ]
    }
   ],
   "source": [
    "str=\"Hello Prajwal\"\n",
    "print(str[:7])"
   ]
  },
  {
   "cell_type": "code",
   "execution_count": 26,
   "metadata": {},
   "outputs": [
    {
     "name": "stdout",
     "output_type": "stream",
     "text": [
      "7\n",
      "prajwal"
     ]
    }
   ],
   "source": [
    "a=input(\"Enter the string:\")\n",
    "print(len(a))\n",
    "for i in range(0,len(a)):\n",
    "    print(a[i],end=\"\")\n",
    "    "
   ]
  },
  {
   "cell_type": "code",
   "execution_count": 27,
   "metadata": {},
   "outputs": [
    {
     "name": "stdout",
     "output_type": "stream",
     "text": [
      "lawjarp\n"
     ]
    }
   ],
   "source": [
    "x=input(\"Enter your name:\")\n",
    "print(x[-1::-1])\n"
   ]
  },
  {
   "cell_type": "code",
   "execution_count": 29,
   "metadata": {},
   "outputs": [
    {
     "name": "stdout",
     "output_type": "stream",
     "text": [
      "lawjarp"
     ]
    }
   ],
   "source": [
    "a=input(\"Enter your name:\")\n",
    "for i in range((len(a)-1),-1,-1):\n",
    "    print(a[i],end='')"
   ]
  },
  {
   "cell_type": "code",
   "execution_count": 30,
   "metadata": {},
   "outputs": [
    {
     "name": "stdout",
     "output_type": "stream",
     "text": [
      "Prajwal\n"
     ]
    }
   ],
   "source": [
    "a=\"prajwal\"\n",
    "b=a.capitalize()\n",
    "print(b)"
   ]
  },
  {
   "cell_type": "code",
   "execution_count": 32,
   "metadata": {},
   "outputs": [
    {
     "name": "stdout",
     "output_type": "stream",
     "text": [
      "palindrome\n"
     ]
    }
   ],
   "source": [
    "a=input(\"Enter string:\")\n",
    "b=a[-1::-1]\n",
    "if(a==b):\n",
    "    print(\"palindrome\")\n",
    "else:\n",
    "    print(\"not palindrome\")    "
   ]
  },
  {
   "cell_type": "code",
   "execution_count": 1,
   "metadata": {},
   "outputs": [
    {
     "name": "stdout",
     "output_type": "stream",
     "text": [
      "lawjarp\n"
     ]
    }
   ],
   "source": [
    "x=input(\"Enter the string:\")\n",
    "print(x[-1::-1]\n",
    "      )"
   ]
  },
  {
   "cell_type": "code",
   "execution_count": 3,
   "metadata": {},
   "outputs": [
    {
     "name": "stdout",
     "output_type": "stream",
     "text": [
      "Before capitalize of a\n",
      "prajwal\n",
      "After capitalize of a\n",
      "Prajwal\n"
     ]
    }
   ],
   "source": [
    "a=\"prajwal\"\n",
    "print(\"Before capitalize of a\")\n",
    "print(a)\n",
    "print(\"After capitalize of a\")\n",
    "print(a.capitalize())\n",
    "\n",
    "    "
   ]
  },
  {
   "cell_type": "code",
   "execution_count": 5,
   "metadata": {},
   "outputs": [
    {
     "data": {
      "text/plain": [
       "13"
      ]
     },
     "execution_count": 5,
     "metadata": {},
     "output_type": "execute_result"
    }
   ],
   "source": [
    "a=\"RAM IS GOING TO MARKET\"\n",
    "b=\"TO\"\n",
    "a.find(b,0,(len(a)-1))"
   ]
  },
  {
   "cell_type": "code",
   "execution_count": 6,
   "metadata": {},
   "outputs": [
    {
     "name": "stdout",
     "output_type": "stream",
     "text": [
      "string is palindrom\n"
     ]
    }
   ],
   "source": [
    "a=input(\"ENter the sting:\")\n",
    "b=a[-1::-1]\n",
    "if(a==b):\n",
    "    print(\"string is palindrom\")\n",
    "else:\n",
    "    print(\"srting is not palindrom\")    "
   ]
  },
  {
   "cell_type": "code",
   "execution_count": null,
   "metadata": {},
   "outputs": [],
   "source": []
  },
  {
   "cell_type": "code",
   "execution_count": null,
   "metadata": {},
   "outputs": [],
   "source": []
  },
  {
   "cell_type": "code",
   "execution_count": 23,
   "metadata": {},
   "outputs": [
    {
     "data": {
      "text/plain": [
       "7"
      ]
     },
     "execution_count": 23,
     "metadata": {},
     "output_type": "execute_result"
    }
   ],
   "source": [
    "a=\"Prajwal\"\n",
    "len(a)"
   ]
  }
 ],
 "metadata": {
  "kernelspec": {
   "display_name": "base",
   "language": "python",
   "name": "python3"
  },
  "language_info": {
   "codemirror_mode": {
    "name": "ipython",
    "version": 3
   },
   "file_extension": ".py",
   "mimetype": "text/x-python",
   "name": "python",
   "nbconvert_exporter": "python",
   "pygments_lexer": "ipython3",
   "version": "3.11.4"
  }
 },
 "nbformat": 4,
 "nbformat_minor": 2
}
